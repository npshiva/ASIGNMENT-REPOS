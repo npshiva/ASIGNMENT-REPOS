{
 "cells": [
  {
   "cell_type": "code",
   "execution_count": null,
   "metadata": {},
   "outputs": [],
   "source": [
    "#Create function"
   ]
  },
  {
   "cell_type": "code",
   "execution_count": 39,
   "metadata": {},
   "outputs": [
    {
     "name": "stdout",
     "output_type": "stream",
     "text": [
      "Sub-Fields in AI are: \n",
      "machine learning\n",
      "neural networks\n",
      "Vision\n",
      "Robotics\n",
      "Speech processing\n",
      "Natural language processing\n"
     ]
    }
   ],
   "source": [
    "def SubFields():\n",
    "    print(\"Sub-Fields in AI are: \")\n",
    "    message=\"Sub-Fields in AI are: \"\n",
    "    subFields=[\"machine learning\", \"neural networks\", \"Vision\", \"Robotics\", \"Speech processing\", \"Natural language processing\"]\n",
    "    for List in subFields:\n",
    "        print(List)\n",
    "   \n",
    "              \n",
    "SubFields()"
   ]
  },
  {
   "cell_type": "code",
   "execution_count": 37,
   "metadata": {},
   "outputs": [
    {
     "data": {
      "text/plain": [
       "'Sub-Fields in AI are: '"
      ]
     },
     "execution_count": 37,
     "metadata": {},
     "output_type": "execute_result"
    }
   ],
   "source": [
    "SubF"
   ]
  },
  {
   "cell_type": "code",
   "execution_count": null,
   "metadata": {},
   "outputs": [],
   "source": [
    "#Create function (oddEven())"
   ]
  },
  {
   "cell_type": "code",
   "execution_count": 8,
   "metadata": {},
   "outputs": [
    {
     "name": "stdout",
     "output_type": "stream",
     "text": [
      "Enter the number: 4\n",
      "4 is even number\n"
     ]
    }
   ],
   "source": [
    "def OddEven():\n",
    "    num=int(input(\"Enter the number: \"))\n",
    "    if ((num%2)==0):\n",
    "        print(num, \"is even number\")\n",
    "        message=\"even number\"\n",
    "    else:\n",
    "        print(num, \"is odd number\")\n",
    "        message=\"odd number\"\n",
    "    return message\n",
    "\n",
    "\n",
    "oddEven=OddEven()"
   ]
  },
  {
   "cell_type": "code",
   "execution_count": null,
   "metadata": {},
   "outputs": [],
   "source": [
    "#Create function for Marriage eligibity"
   ]
  },
  {
   "cell_type": "code",
   "execution_count": 15,
   "metadata": {},
   "outputs": [
    {
     "name": "stdout",
     "output_type": "stream",
     "text": [
      "Your Gender: Male\n",
      "Your age: 18\n",
      "Not Eligible\n"
     ]
    }
   ],
   "source": [
    "def Eligibility():\n",
    "    Gender=str(input(\"Your Gender: \"))\n",
    "    Age=int(input(\"Your age: \"))\n",
    "    if ((Gender==\"Male\") and (Age>=21)):\n",
    "        print(\"Eligible\")\n",
    "        message=\"Eligible\"\n",
    "    elif ((Gender==\"Female\") and (Age>=18)):\n",
    "        print(\"Eligible\")\n",
    "        message=\"Eligible\"\n",
    "    else:\n",
    "        print(\"Not Eligible\")\n",
    "        message=\"Not Eligible\"\n",
    "    return message\n",
    "\n",
    "\n",
    "Eligible=Eligibility()\n"
   ]
  },
  {
   "cell_type": "code",
   "execution_count": 16,
   "metadata": {},
   "outputs": [
    {
     "data": {
      "text/plain": [
       "'Not Eligible'"
      ]
     },
     "execution_count": 16,
     "metadata": {},
     "output_type": "execute_result"
    }
   ],
   "source": [
    "Eligible"
   ]
  },
  {
   "cell_type": "code",
   "execution_count": null,
   "metadata": {},
   "outputs": [],
   "source": [
    "#Create function for percentage"
   ]
  },
  {
   "cell_type": "code",
   "execution_count": 21,
   "metadata": {},
   "outputs": [
    {
     "name": "stdout",
     "output_type": "stream",
     "text": [
      "Subject1= 23\n",
      "subject2= 45\n",
      "Subject3= 34\n",
      "Subject4= 23\n",
      "Subject5= 23\n",
      "Total :  148\n",
      "Percentage :  29.599999999999998\n"
     ]
    }
   ],
   "source": [
    "def Percentage():\n",
    "    sub1=int(input(\"Subject1= \"))\n",
    "    sub2=int(input(\"subject2= \"))\n",
    "    sub3=int(input(\"Subject3= \"))\n",
    "    sub4=int(input(\"Subject4= \"))\n",
    "    sub5=int(input(\"Subject5= \"))\n",
    "    Total=sub1+sub2+sub3+sub4+sub5\n",
    "    print(\"Total : \",Total)\n",
    "    Percentage_cal=(Total/500)*100\n",
    "    print(\"Percentage : \",Percentage_cal)\n",
    "    output=Percentage_cal\n",
    "    return output\n",
    "    \n",
    "    \n",
    "Percent=Percentage()\n",
    "    "
   ]
  },
  {
   "cell_type": "code",
   "execution_count": 22,
   "metadata": {},
   "outputs": [
    {
     "data": {
      "text/plain": [
       "29.599999999999998"
      ]
     },
     "execution_count": 22,
     "metadata": {},
     "output_type": "execute_result"
    }
   ],
   "source": [
    "Percent"
   ]
  },
  {
   "cell_type": "code",
   "execution_count": null,
   "metadata": {},
   "outputs": [],
   "source": [
    "#Create function to find area and perimeter of the triangle"
   ]
  },
  {
   "cell_type": "code",
   "execution_count": 23,
   "metadata": {},
   "outputs": [
    {
     "name": "stdout",
     "output_type": "stream",
     "text": [
      "Height: 3\n",
      "Breadth: 4\n",
      "Area formula: (Height*Breadth)/2\n",
      "Area of Triangle:  6.0\n",
      "Height1: 3\n",
      "Height2: 4\n",
      "Breadth: 45\n",
      "Perimeter formula: Height1+Height2+Breadth2\n",
      "Perimeter of triangle:  52\n"
     ]
    }
   ],
   "source": [
    "def triangle():\n",
    "    Height=int(input(\"Height: \"))\n",
    "    Breadth=int(input(\"Breadth: \"))\n",
    "    Area=(Height*Breadth)/2\n",
    "    print(\"Area formula: (Height*Breadth)/2\")\n",
    "    print(\"Area of Triangle: \",Area)\n",
    "    Height1=int(input(\"Height1: \"))\n",
    "    Height2=int(input(\"Height2: \"))\n",
    "    Breadth2=int(input(\"Breadth: \"))\n",
    "    Perimeter=Height1+Height2+Breadth2\n",
    "    print(\"Perimeter formula: Height1+Height2+Breadth2\")\n",
    "    print(\"Perimeter of triangle: \",Perimeter)\n",
    "    \n",
    "    \n",
    "triangle()\n",
    "    "
   ]
  },
  {
   "cell_type": "code",
   "execution_count": null,
   "metadata": {},
   "outputs": [],
   "source": []
  }
 ],
 "metadata": {
  "kernelspec": {
   "display_name": "Python 3",
   "language": "python",
   "name": "python3"
  },
  "language_info": {
   "codemirror_mode": {
    "name": "ipython",
    "version": 3
   },
   "file_extension": ".py",
   "mimetype": "text/x-python",
   "name": "python",
   "nbconvert_exporter": "python",
   "pygments_lexer": "ipython3",
   "version": "3.7.4"
  }
 },
 "nbformat": 4,
 "nbformat_minor": 2
}
